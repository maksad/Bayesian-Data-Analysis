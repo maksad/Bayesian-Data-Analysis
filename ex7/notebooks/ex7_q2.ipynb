{
 "cells": [
  {
   "cell_type": "markdown",
   "metadata": {},
   "source": [
    "## Pooled model"
   ]
  },
  {
   "cell_type": "code",
   "execution_count": 1,
   "metadata": {},
   "outputs": [],
   "source": [
    "#%%\n",
    "from scipy.stats import norm\n",
    "import matplotlib.pyplot as plt\n",
    "import numpy as np\n",
    "import pandas as pd\n",
    "import pystan"
   ]
  },
  {
   "cell_type": "code",
   "execution_count": 2,
   "metadata": {},
   "outputs": [],
   "source": [
    "#%% The data\n",
    "machines = pd.read_fwf('./ex7/factory.txt', header=None).values\n",
    "machines_transposed = machines.T"
   ]
  },
  {
   "cell_type": "code",
   "execution_count": 3,
   "metadata": {},
   "outputs": [],
   "source": [
    "#%% Pooled model\n",
    "'''\n",
    "Pooled model\n",
    "'''\n",
    "stan_code_pooled = '''\n",
    "data {\n",
    "    int<lower=0> N;       // number of data points\n",
    "    vector[N] y;          //\n",
    "}\n",
    "parameters {\n",
    "    real mu;              // group means\n",
    "    real<lower=0> sigma;  // common std\n",
    "}\n",
    "model {\n",
    "    y ~ normal(mu, sigma);\n",
    "}\n",
    "generated quantities {\n",
    "    real ypred;\n",
    "    ypred = normal_rng(mu, sigma);\n",
    "}\n",
    "'''"
   ]
  },
  {
   "cell_type": "code",
   "execution_count": 4,
   "metadata": {},
   "outputs": [
    {
     "name": "stderr",
     "output_type": "stream",
     "text": [
      "INFO:pystan:COMPILING THE C++ CODE FOR MODEL anon_model_e8aba0ecc735c7155fb621c1cf14928c NOW.\n",
      "/Users/maksaddonayorov/.virtualenvs/bda/lib/python3.6/site-packages/Cython/Compiler/Main.py:367: FutureWarning: Cython directive 'language_level' not set, using 2 for now (Py2). This will change in a later release! File: /var/folders/qn/_rqylh917b33tgzrfm1wy79h0000gn/T/tmpaz7ibefd/stanfit4anon_model_e8aba0ecc735c7155fb621c1cf14928c_5643670512500397732.pyx\n",
      "  tree = Parsing.p_module(s, pxd, full_module_name)\n"
     ]
    }
   ],
   "source": [
    "#%% fitting data to stan model\n",
    "machines_pooled = machines.flatten()\n",
    "model_pooled = pystan.StanModel(model_code=stan_code_pooled)\n",
    "data_pooled = dict(\n",
    "    N=machines_pooled.size,\n",
    "    y=machines_pooled\n",
    ")"
   ]
  },
  {
   "cell_type": "code",
   "execution_count": 5,
   "metadata": {},
   "outputs": [
    {
     "name": "stdout",
     "output_type": "stream",
     "text": [
      "Inference for Stan model: anon_model_e8aba0ecc735c7155fb621c1cf14928c.\n",
      "4 chains, each with iter=2000; warmup=1000; thin=1; \n",
      "post-warmup draws per chain=1000, total post-warmup draws=4000.\n",
      "\n",
      "        mean se_mean     sd   2.5%    25%    50%    75%  97.5%  n_eff   Rhat\n",
      "mu     92.87    0.06   3.35  86.22  90.65  92.87  95.06  99.41   2748    1.0\n",
      "sigma  18.77    0.05   2.55   14.6  16.94   18.5  20.32  24.68   2468    1.0\n",
      "ypred  93.33    0.32  19.08  55.19  80.93  93.76 105.58 130.87   3550    1.0\n",
      "lp__   -99.3    0.02   0.99 -102.0 -99.66 -99.01  -98.6 -98.35   1759    1.0\n",
      "\n",
      "Samples were drawn using NUTS at Sun Nov  4 23:39:01 2018.\n",
      "For each parameter, n_eff is a crude measure of effective sample size,\n",
      "and Rhat is the potential scale reduction factor on split chains (at \n",
      "convergence, Rhat=1).\n"
     ]
    }
   ],
   "source": [
    "#%% sampling\n",
    "fit_pooled = model_pooled.sampling(data=data_pooled)\n",
    "print(fit_pooled)"
   ]
  },
  {
   "cell_type": "code",
   "execution_count": 7,
   "metadata": {},
   "outputs": [
    {
     "data": {
      "text/plain": [
       "<Figure size 432x288 with 0 Axes>"
      ]
     },
     "execution_count": 7,
     "metadata": {},
     "output_type": "execute_result"
    },
    {
     "data": {
      "image/png": "[encoded data removed]",
      "text/plain": [
       "<Figure size 432x288 with 1 Axes>"
      ]
     },
     "metadata": {
      "needs_background": "light"
     },
     "output_type": "display_data"
    },
    {
     "data": {
      "text/plain": [
       "<Figure size 432x288 with 0 Axes>"
      ]
     },
     "metadata": {},
     "output_type": "display_data"
    }
   ],
   "source": [
    "#%% hist\n",
    "y_pred_pooled = fit_pooled.extract()['ypred']\n",
    "plt.hist(y_pred_pooled, bins=20, ec='white')\n",
    "plt.savefig('./ex7/report/pooled_hist.png')\n",
    "plt.figure(0)"
   ]
  },
  {
   "cell_type": "code",
   "execution_count": 17,
   "metadata": {},
   "outputs": [
    {
     "data": {
      "text/plain": [
       "<Figure size 432x288 with 0 Axes>"
      ]
     },
     "execution_count": 17,
     "metadata": {},
     "output_type": "execute_result"
    },
    {
     "data": {
      "image/png": "[encoded data removed]",
      "text/plain": [
       "<Figure size 432x288 with 1 Axes>"
      ]
     },
     "metadata": {
      "needs_background": "light"
     },
     "output_type": "display_data"
    },
    {
     "data": {
      "text/plain": [
       "<Figure size 432x288 with 0 Axes>"
      ]
     },
     "metadata": {},
     "output_type": "display_data"
    }
   ],
   "source": [
    "mu = fit_pooled.extract()['mu']\n",
    "plt.hist(mu, bins=20, ec='white')\n",
    "plt.savefig('./ex7/report/pooled_hist_mu.png')\n",
    "plt.figure(0)"
   ]
  },
  {
   "cell_type": "markdown",
   "metadata": {},
   "source": [
    "# Separate model"
   ]
  },
  {
   "cell_type": "code",
   "execution_count": 8,
   "metadata": {},
   "outputs": [],
   "source": [
    "stan_code_separate = '''\n",
    "data {\n",
    "    int<lower=0> N;               // number of data points\n",
    "    int<lower=0> K;               // number of groups\n",
    "    int<lower=1,upper=K> x[N];    // group indicator\n",
    "    vector[N] y;\n",
    "}\n",
    "parameters {\n",
    "    vector[K] mu;                 // group means\n",
    "    vector<lower=0>[K] sigma;     // group stds\n",
    "}\n",
    "model {\n",
    "    y ~ normal(mu[x], sigma[x]);\n",
    "}\n",
    "generated quantities {\n",
    "    real ypred;\n",
    "    ypred = normal_rng(mu[6], sigma[6]);\n",
    "}\n",
    "'''"
   ]
  },
  {
   "cell_type": "code",
   "execution_count": 9,
   "metadata": {},
   "outputs": [
    {
     "name": "stderr",
     "output_type": "stream",
     "text": [
      "INFO:pystan:COMPILING THE C++ CODE FOR MODEL anon_model_32b281d392710cf284050e850f25ceeb NOW.\n",
      "/Users/maksaddonayorov/.virtualenvs/bda/lib/python3.6/site-packages/Cython/Compiler/Main.py:367: FutureWarning: Cython directive 'language_level' not set, using 2 for now (Py2). This will change in a later release! File: /var/folders/qn/_rqylh917b33tgzrfm1wy79h0000gn/T/tmp04o3psp3/stanfit4anon_model_32b281d392710cf284050e850f25ceeb_1038956128401493059.pyx\n",
      "  tree = Parsing.p_module(s, pxd, full_module_name)\n"
     ]
    }
   ],
   "source": [
    "#%% fitting data into the stan model\n",
    "model_seperate = pystan.StanModel(model_code=stan_code_separate)\n",
    "data_separate = dict(\n",
    "    N=machines_transposed.size,\n",
    "    K=6,\n",
    "    x=[\n",
    "        1, 1, 1, 1, 1,\n",
    "        2, 2, 2, 2, 2,\n",
    "        3, 3, 3, 3, 3,\n",
    "        4, 4, 4, 4, 4,\n",
    "        5, 5, 5, 5, 5,\n",
    "        6, 6, 6, 6, 6,\n",
    "    ],\n",
    "    y=machines_transposed.flatten()\n",
    ")"
   ]
  },
  {
   "cell_type": "code",
   "execution_count": 10,
   "metadata": {},
   "outputs": [
    {
     "name": "stdout",
     "output_type": "stream",
     "text": [
      "Inference for Stan model: anon_model_32b281d392710cf284050e850f25ceeb.\n",
      "4 chains, each with iter=2000; warmup=1000; thin=1; \n",
      "post-warmup draws per chain=1000, total post-warmup draws=4000.\n",
      "\n",
      "           mean se_mean     sd   2.5%    25%    50%    75%  97.5%  n_eff   Rhat\n",
      "mu[1]     75.93    0.36   15.3   44.6  68.25  75.98  83.95 106.05   1833    1.0\n",
      "mu[2]    106.57    0.34  10.33  88.75 101.66  106.3 110.89 126.97    944    1.0\n",
      "mu[3]      87.8    0.23   9.49  67.93  83.03  87.92  92.65 106.74   1646    1.0\n",
      "mu[4]    111.56    0.17   5.91  99.43  108.6 111.52 114.46 123.49   1225    1.0\n",
      "mu[5]     89.91    0.27   9.27   70.6  85.84   90.0  94.32 107.29   1143    1.0\n",
      "mu[6]     86.45    0.37  14.33  58.26  78.54  86.19   93.8 117.74   1477    1.0\n",
      "sigma[1]  30.62    0.55  20.17  13.08  19.47  25.44  34.81  79.54   1352    1.0\n",
      "sigma[2]  18.56    0.37  11.89   7.69  11.64  15.26  21.23  52.47   1017    1.0\n",
      "sigma[3]  19.64    0.31  12.34   8.41  12.64  16.55  22.55  49.52   1574    1.0\n",
      "sigma[4]  12.03     0.2   6.95   4.96    7.6  10.09  14.15  30.48   1265    1.0\n",
      "sigma[5]  16.98    0.39   11.8   7.06  10.52  13.68  19.27  46.61    907    1.0\n",
      "sigma[6]  30.16     0.5   18.0  12.28  18.87  25.17  35.34  79.14   1289    1.0\n",
      "ypred      86.0     0.7  37.13  12.32  67.29  85.77 104.62 162.64   2827    1.0\n",
      "lp__     -81.11     0.1   2.99 -88.04 -82.89 -80.75 -78.92 -76.34    913    1.0\n",
      "\n",
      "Samples were drawn using NUTS at Sun Nov  4 23:41:49 2018.\n",
      "For each parameter, n_eff is a crude measure of effective sample size,\n",
      "and Rhat is the potential scale reduction factor on split chains (at \n",
      "convergence, Rhat=1).\n"
     ]
    }
   ],
   "source": [
    "#%% sampling\n",
    "fit_separate = model_seperate.sampling(data=data_separate, n_jobs=-1)\n",
    "print(fit_separate)\n"
   ]
  },
  {
   "cell_type": "code",
   "execution_count": 38,
   "metadata": {},
   "outputs": [
    {
     "data": {
      "text/plain": [
       "<Figure size 432x288 with 0 Axes>"
      ]
     },
     "execution_count": 38,
     "metadata": {},
     "output_type": "execute_result"
    },
    {
     "data": {
      "image/png": "[encoded data removed]",
      "text/plain": [
       "<Figure size 432x288 with 1 Axes>"
      ]
     },
     "metadata": {
      "needs_background": "light"
     },
     "output_type": "display_data"
    },
    {
     "data": {
      "text/plain": [
       "<Figure size 432x288 with 0 Axes>"
      ]
     },
     "metadata": {},
     "output_type": "display_data"
    }
   ],
   "source": [
    "#%% hist\n",
    "mu_data_separate = fit_separate.extract()['mu']\n",
    "plt.hist(mu_data_separate[:, 5], bins=20, ec='white')\n",
    "plt.savefig('./ex7/report/separate_hist_mu_six.png')\n",
    "plt.figure(0)"
   ]
  },
  {
   "cell_type": "code",
   "execution_count": 37,
   "metadata": {},
   "outputs": [
    {
     "data": {
      "text/plain": [
       "<Figure size 432x288 with 0 Axes>"
      ]
     },
     "execution_count": 37,
     "metadata": {},
     "output_type": "execute_result"
    },
    {
     "data": {
      "image/png": "[encoded data removed]",
      "text/plain": [
       "<Figure size 432x288 with 1 Axes>"
      ]
     },
     "metadata": {
      "needs_background": "light"
     },
     "output_type": "display_data"
    },
    {
     "data": {
      "text/plain": [
       "<Figure size 432x288 with 0 Axes>"
      ]
     },
     "metadata": {},
     "output_type": "display_data"
    }
   ],
   "source": [
    "#%% hist\n",
    "y_pred_separate = fit_separate.extract()['ypred']\n",
    "plt.hist(y_pred_separate, bins=20, ec='white')\n",
    "plt.savefig('./ex7/report/separate_hist.png')\n",
    "plt.figure(0)"
   ]
  },
  {
   "cell_type": "markdown",
   "metadata": {},
   "source": [
    "## Hierarchical model"
   ]
  },
  {
   "cell_type": "code",
   "execution_count": 44,
   "metadata": {},
   "outputs": [],
   "source": [
    "stan_code_hierarchical = '''\n",
    "data {\n",
    "    int<lower=0> N;             // number of data points\n",
    "    int<lower=0> K;             // number of groups\n",
    "    int<lower=1,upper=K> x[N];  // group indicator\n",
    "    vector[N] y;\n",
    "}\n",
    "parameters {\n",
    "    real mu0;                   // prior mean\n",
    "    real<lower=0> sigma0;       // prior std\n",
    "    vector[K] mu;               // group means\n",
    "    real<lower=0> sigma;        // common std\n",
    "}\n",
    "model {\n",
    "    mu ~ normal(mu0, sigma0);\n",
    "    y ~ normal(mu[x], sigma);\n",
    "}\n",
    "generated quantities {\n",
    "    real ypred6;\n",
    "    real mu7;\n",
    "    ypred6 = normal_rng(mu[6], sigma);\n",
    "    mu7 = normal_rng(mu0, sigma0);\n",
    "}\n",
    "'''"
   ]
  },
  {
   "cell_type": "code",
   "execution_count": 45,
   "metadata": {},
   "outputs": [
    {
     "name": "stderr",
     "output_type": "stream",
     "text": [
      "INFO:pystan:COMPILING THE C++ CODE FOR MODEL anon_model_568b7ff89097548a60e623f8ba374874 NOW.\n",
      "/Users/maksaddonayorov/.virtualenvs/bda/lib/python3.6/site-packages/Cython/Compiler/Main.py:367: FutureWarning: Cython directive 'language_level' not set, using 2 for now (Py2). This will change in a later release! File: /var/folders/qn/_rqylh917b33tgzrfm1wy79h0000gn/T/tmpelp0d6gh/stanfit4anon_model_568b7ff89097548a60e623f8ba374874_4402916374249434465.pyx\n",
      "  tree = Parsing.p_module(s, pxd, full_module_name)\n"
     ]
    }
   ],
   "source": [
    "#%% fitting data into the stan model\n",
    "model_hierarchical = pystan.StanModel(model_code=stan_code_hierarchical)\n",
    "data_hierarchical = dict(\n",
    "    N=machines_transposed.size,\n",
    "    K=6,\n",
    "    x=[\n",
    "        1, 1, 1, 1, 1,\n",
    "        2, 2, 2, 2, 2,\n",
    "        3, 3, 3, 3, 3,\n",
    "        4, 4, 4, 4, 4,\n",
    "        5, 5, 5, 5, 5,\n",
    "        6, 6, 6, 6, 6,\n",
    "    ],\n",
    "    y=machines_transposed.flatten()\n",
    ")"
   ]
  },
  {
   "cell_type": "code",
   "execution_count": 46,
   "metadata": {},
   "outputs": [
    {
     "name": "stderr",
     "output_type": "stream",
     "text": [
      "WARNING:pystan:17 of 4000 iterations ended with a divergence (0.425%).\n",
      "WARNING:pystan:Try running with adapt_delta larger than 0.8 to remove the divergences.\n"
     ]
    },
    {
     "name": "stdout",
     "output_type": "stream",
     "text": [
      "Inference for Stan model: anon_model_568b7ff89097548a60e623f8ba374874.\n",
      "4 chains, each with iter=2000; warmup=1000; thin=1; \n",
      "post-warmup draws per chain=1000, total post-warmup draws=4000.\n",
      "\n",
      "         mean se_mean     sd   2.5%    25%    50%    75%  97.5%  n_eff   Rhat\n",
      "mu0     92.13    0.36   9.72   71.8  88.13  92.64  97.03 108.53    738    1.0\n",
      "sigma0  17.08    0.46  12.29   5.38  10.49  14.32  20.03  45.45    729   1.01\n",
      "mu[1]   79.71    0.15   6.56  66.76  75.32  79.65  84.13  92.72   1992    1.0\n",
      "mu[2]  103.07    0.14   6.48  90.04  98.92 103.04 107.31 116.52   2247    1.0\n",
      "mu[3]   88.89    0.09   6.18  76.41  84.87  88.85  92.92 101.25   4231    1.0\n",
      "mu[4]  107.56    0.18   6.68  94.24 103.04 107.69 112.16 120.04   1345    1.0\n",
      "mu[5]   90.47     0.1   6.12  78.28  86.59  90.45  94.46 102.45   3904    1.0\n",
      "mu[6]   87.32     0.1   6.25  75.07  83.08  87.31  91.64  99.36   3647    1.0\n",
      "sigma   15.18    0.06   2.27  11.55  13.55  14.91  16.54  20.41   1572    1.0\n",
      "ypred6   87.0    0.26  16.89  52.64  76.11  86.87  98.52  120.0   4076    1.0\n",
      "mu7     91.77    0.59  24.43  44.47  82.15   92.6  103.4 133.87   1687    1.0\n",
      "lp__   -108.9    0.09   2.52 -114.8 -110.3 -108.4 -107.0 -105.3    755    1.0\n",
      "\n",
      "Samples were drawn using NUTS at Mon Nov  5 00:58:02 2018.\n",
      "For each parameter, n_eff is a crude measure of effective sample size,\n",
      "and Rhat is the potential scale reduction factor on split chains (at \n",
      "convergence, Rhat=1).\n"
     ]
    }
   ],
   "source": [
    "#%% sampling\n",
    "fit_hierarchical = model_hierarchical.sampling(data=data_hierarchical, n_jobs=-1)\n",
    "print(fit_hierarchical)"
   ]
  },
  {
   "cell_type": "code",
   "execution_count": 48,
   "metadata": {},
   "outputs": [
    {
     "data": {
      "text/plain": [
       "<Figure size 432x288 with 0 Axes>"
      ]
     },
     "execution_count": 48,
     "metadata": {},
     "output_type": "execute_result"
    },
    {
     "data": {
      "image/png": "[encoded data removed]",
      "text/plain": [
       "<Figure size 432x288 with 1 Axes>"
      ]
     },
     "metadata": {
      "needs_background": "light"
     },
     "output_type": "display_data"
    },
    {
     "data": {
      "text/plain": [
       "<Figure size 432x288 with 0 Axes>"
      ]
     },
     "metadata": {},
     "output_type": "display_data"
    }
   ],
   "source": [
    "#%% hist\n",
    "mu_data_hierarchical = fit_hierarchical.extract()['mu']\n",
    "plt.hist(mu_data_hierarchical[:, 5], bins=20, ec='white')\n",
    "plt.savefig('./ex7/report/hierarchical_hist_mu_six.png')\n",
    "plt.figure(0)"
   ]
  },
  {
   "cell_type": "code",
   "execution_count": 49,
   "metadata": {},
   "outputs": [
    {
     "data": {
      "text/plain": [
       "<Figure size 432x288 with 0 Axes>"
      ]
     },
     "execution_count": 49,
     "metadata": {},
     "output_type": "execute_result"
    },
    {
     "data": {
      "image/png": "[encoded data removed]",
      "text/plain": [
       "<Figure size 432x288 with 1 Axes>"
      ]
     },
     "metadata": {
      "needs_background": "light"
     },
     "output_type": "display_data"
    },
    {
     "data": {
      "text/plain": [
       "<Figure size 432x288 with 0 Axes>"
      ]
     },
     "metadata": {},
     "output_type": "display_data"
    }
   ],
   "source": [
    "#%% hist\n",
    "y_pred_hierarchical = fit_hierarchical.extract()['ypred6']\n",
    "plt.hist(y_pred_hierarchical, bins=20, ec='white')\n",
    "plt.savefig('./ex7/report/hierarchical_hist.png')\n",
    "plt.figure(0)"
   ]
  },
  {
   "cell_type": "code",
   "execution_count": 51,
   "metadata": {},
   "outputs": [
    {
     "data": {
      "text/plain": [
       "<Figure size 432x288 with 0 Axes>"
      ]
     },
     "execution_count": 51,
     "metadata": {},
     "output_type": "execute_result"
    },
    {
     "data": {
      "image/png": "[encoded data removed]",
      "text/plain": [
       "<Figure size 432x288 with 1 Axes>"
      ]
     },
     "metadata": {
      "needs_background": "light"
     },
     "output_type": "display_data"
    },
    {
     "data": {
      "text/plain": [
       "<Figure size 432x288 with 0 Axes>"
      ]
     },
     "metadata": {},
     "output_type": "display_data"
    }
   ],
   "source": [
    "#%% hist\n",
    "mu_data_hierarchical_7 = fit_hierarchical.extract()['mu7']\n",
    "plt.hist(mu_data_hierarchical_7, bins=20, ec='white')\n",
    "plt.savefig('./ex7/report/hierarchical_hist_mu_7.png')\n",
    "plt.figure(0)"
   ]
  }
 ],
 "metadata": {
  "kernelspec": {
   "display_name": "Python 3",
   "language": "python",
   "name": "python3"
  },
  "language_info": {
   "codemirror_mode": {
    "name": "ipython",
    "version": 3
   },
   "file_extension": ".py",
   "mimetype": "text/x-python",
   "name": "python",
   "nbconvert_exporter": "python",
   "pygments_lexer": "ipython3",
   "version": "3.6.5"
  }
 },
 "nbformat": 4,
 "nbformat_minor": 2
}
