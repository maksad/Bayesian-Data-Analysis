{
 "cells": [
  {
   "cell_type": "code",
   "execution_count": 1,
   "metadata": {},
   "outputs": [],
   "source": [
    "#%%\n",
    "from scipy.stats import norm\n",
    "import matplotlib.pyplot as plt\n",
    "import numpy as np\n",
    "import pandas as pd\n",
    "import pystan\n",
    "\n",
    "drowning_data = pd.read_fwf('./ex7/drowning.txt').values\n",
    "years = drowning_data[:, 0]\n",
    "drowning = drowning_data[:, 1]"
   ]
  },
  {
   "cell_type": "code",
   "execution_count": 2,
   "metadata": {},
   "outputs": [
    {
     "data": {
      "image/png": "[encoded data removed]",
      "text/plain": [
       "<Figure size 432x288 with 1 Axes>"
      ]
     },
     "metadata": {
      "needs_background": "light"
     },
     "output_type": "display_data"
    }
   ],
   "source": [
    "#%%\n",
    "plt.plot(years, drowning)\n",
    "\n",
    "z = np.polyfit(years, drowning, 1)\n",
    "trend = np.poly1d(z)\n",
    "plt.plot(years, trend(years), 'r--')\n",
    "plt.show()"
   ]
  },
  {
   "cell_type": "code",
   "execution_count": 3,
   "metadata": {},
   "outputs": [],
   "source": [
    "#%%\n",
    "stan_code = '''\n",
    "data {\n",
    "  int<lower=0> N; // number of data points\n",
    "  vector[N] x;    // observation year\n",
    "  vector[N] y;    // observation number of drowned\n",
    "  real xpred;     // prediction year\n",
    "  real tau;\n",
    "}\n",
    "parameters {\n",
    "  real alpha;\n",
    "  real beta;\n",
    "  real<lower=0> sigma;\n",
    "}\n",
    "transformed parameters {\n",
    "  vector[N] mu;\n",
    "  mu = alpha + beta * x;\n",
    "}\n",
    "model {\n",
    "  beta ~ normal(0, tau);\n",
    "  y ~ normal(mu, sigma);\n",
    "}\n",
    "generated quantities {\n",
    "  real ypred;\n",
    "  ypred = normal_rng(alpha + beta * xpred, sigma);\n",
    "}\n",
    "'''"
   ]
  },
  {
   "cell_type": "code",
   "execution_count": 4,
   "metadata": {},
   "outputs": [
    {
     "name": "stdout",
     "output_type": "stream",
     "text": [
      "0.004989593432738089\n"
     ]
    }
   ],
   "source": [
    "#%% guess of tau\n",
    "dist = norm(loc=0, scale=26.78)\n",
    "print(dist.cdf(-69))"
   ]
  },
  {
   "cell_type": "code",
   "execution_count": 5,
   "metadata": {},
   "outputs": [
    {
     "name": "stderr",
     "output_type": "stream",
     "text": [
      "INFO:pystan:COMPILING THE C++ CODE FOR MODEL anon_model_92320604ec8a3bb0205bb62a379fbdbf NOW.\n",
      "/Users/maksaddonayorov/.virtualenvs/bda/lib/python3.6/site-packages/Cython/Compiler/Main.py:367: FutureWarning: Cython directive 'language_level' not set, using 2 for now (Py2). This will change in a later release! File: /var/folders/qn/_rqylh917b33tgzrfm1wy79h0000gn/T/tmptxdt05kz/stanfit4anon_model_92320604ec8a3bb0205bb62a379fbdbf_3847428440389201310.pyx\n",
      "  tree = Parsing.p_module(s, pxd, full_module_name)\n"
     ]
    }
   ],
   "source": [
    "#%% fitting data to stan model\n",
    "stan_model = pystan.StanModel(model_code=stan_code)\n",
    "\n",
    "data = dict(\n",
    "    N=len(years),\n",
    "    x=years,\n",
    "    y=drowning,\n",
    "    xpred=2019,\n",
    "    tau=26.78,\n",
    ")"
   ]
  },
  {
   "cell_type": "code",
   "execution_count": 6,
   "metadata": {},
   "outputs": [
    {
     "name": "stderr",
     "output_type": "stream",
     "text": [
      "WARNING:pystan:962 of 4000 iterations saturated the maximum tree depth of 10 (24.05%)\n",
      "WARNING:pystan:Run again with max_treedepth larger than 10 to avoid saturation\n"
     ]
    },
    {
     "name": "stdout",
     "output_type": "stream",
     "text": [
      "Inference for Stan model: anon_model_92320604ec8a3bb0205bb62a379fbdbf.\n",
      "4 chains, each with iter=2000; warmup=1000; thin=1; \n",
      "post-warmup draws per chain=1000, total post-warmup draws=4000.\n",
      "\n",
      "         mean se_mean     sd   2.5%    25%    50%    75%  97.5%  n_eff   Rhat\n",
      "alpha  1791.4   26.83  851.5  133.1 1220.9 1773.5 2331.9 3529.7   1007    1.0\n",
      "beta    -0.83    0.01   0.43   -1.7   -1.1  -0.82  -0.54 1.4e-3   1007    1.0\n",
      "sigma   26.53    0.09   3.42  20.88  24.15  26.16  28.61  34.04   1317    1.0\n",
      "mu[1]  152.17    0.24   8.66 135.68  146.2 152.12  157.8 169.97   1292    1.0\n",
      "mu[2]  151.35    0.23   8.29 135.63 145.65 151.26  156.8 168.39   1320    1.0\n",
      "mu[3]  150.52    0.22   7.92 135.48 145.11 150.53 155.73 166.74   1352    1.0\n",
      "mu[4]  149.69     0.2   7.57 135.27 144.52 149.73 154.68 165.17   1389    1.0\n",
      "mu[5]  148.86    0.19   7.22 134.97 143.94 148.94 153.57  163.6   1434    1.0\n",
      "mu[6]  148.04    0.18   6.88 134.71  143.4 148.14  152.5 162.04   1488    1.0\n",
      "mu[7]  147.21    0.17   6.55 134.53 142.81  147.3 151.45 160.48   1554    1.0\n",
      "mu[8]  146.38    0.15   6.23 134.25 142.18  146.5 150.44 158.94   1633    1.0\n",
      "mu[9]  145.55    0.14   5.93 133.95  141.6  145.6 149.39 157.46   1731    1.0\n",
      "mu[10] 144.73    0.13   5.64 133.58 140.94 144.78 148.39 156.05   1858    1.0\n",
      "mu[11]  143.9    0.12   5.37  133.3  140.3  143.9 147.39  154.7   2027    1.0\n",
      "mu[12] 143.07    0.11   5.12 132.93 139.64 143.07 146.37 153.38   2196    1.0\n",
      "mu[13] 142.24     0.1    4.9 132.62 139.01 142.24 145.35  152.1   2398    1.0\n",
      "mu[14] 141.42    0.09    4.7 132.11 138.33  141.4 144.36 150.79   2637    1.0\n",
      "mu[15] 140.59    0.08   4.53 131.69 137.65  140.6 143.46 149.58   2905    1.0\n",
      "mu[16] 139.76    0.08    4.4 131.06  136.9 139.79 142.48 148.52   3179    1.0\n",
      "mu[17] 138.93    0.07   4.31  130.5 136.13 138.94 141.59 147.61   3414    1.0\n",
      "mu[18] 138.11    0.07   4.26 129.77 135.38 138.11 140.76 146.67   3549    1.0\n",
      "mu[19] 137.28    0.07   4.25 128.94 134.52 137.27 139.97 145.82   3540    1.0\n",
      "mu[20] 136.45    0.07   4.29  128.0 133.68 136.42 139.22 145.11   3388    1.0\n",
      "mu[21] 135.62    0.08   4.36 126.99 132.82 135.56 138.43 144.45   3140    1.0\n",
      "mu[22]  134.8    0.08   4.48 125.92 131.91 134.78 137.67 143.97   2855    1.0\n",
      "mu[23] 133.97    0.09   4.63 124.81 130.92 133.96 136.97 143.36   2581    1.0\n",
      "mu[24] 133.14     0.1   4.81 123.46 129.95 133.14  136.3 142.88   2338    1.0\n",
      "mu[25] 132.31    0.11   5.03 122.23 129.03 132.33 135.64 142.46   2122    1.0\n",
      "mu[26] 131.49    0.12   5.27 120.96 128.02 131.53 134.98 141.93   1917    1.0\n",
      "mu[27] 130.66    0.13   5.53 119.71 127.03 130.71 134.36 141.51   1740    1.0\n",
      "mu[28] 129.83    0.15   5.81 118.45 125.99 129.87 133.75 141.19   1604    1.0\n",
      "mu[29]  129.0    0.16   6.11 117.06 124.94 129.04 133.17 141.01   1505    1.0\n",
      "mu[30] 128.18    0.17   6.42 115.47 123.93 128.24 132.57 140.77   1427    1.0\n",
      "mu[31] 127.35    0.18   6.75 114.07 122.79 127.43 131.95 140.54   1365    1.0\n",
      "mu[32] 126.52     0.2   7.08 112.36 121.72 126.61 131.34 140.23   1314    1.0\n",
      "mu[33] 125.69    0.21   7.43 110.74 120.71 125.81 130.79  140.1   1272    1.0\n",
      "mu[34] 124.87    0.22   7.78 109.17 119.63 124.96 130.22  139.9   1238    1.0\n",
      "mu[35] 124.04    0.23   8.14 107.53 118.58 124.16 129.66 139.72   1209    1.0\n",
      "mu[36] 123.21    0.25   8.51 105.89  117.5 123.35 129.11 139.65   1185    1.0\n",
      "ypred  120.81    0.48  28.07  65.92 102.33 120.91 139.99 176.94   3385    1.0\n",
      "lp__   -131.8    0.04   1.24 -135.0 -132.4 -131.5 -130.9 -130.4    844   1.01\n",
      "\n",
      "Samples were drawn using NUTS at Sun Nov  4 23:27:48 2018.\n",
      "For each parameter, n_eff is a crude measure of effective sample size,\n",
      "and Rhat is the potential scale reduction factor on split chains (at \n",
      "convergence, Rhat=1).\n"
     ]
    }
   ],
   "source": [
    "#%% sampling\n",
    "fit = stan_model.sampling(data=data)\n",
    "print(fit)"
   ]
  },
  {
   "cell_type": "code",
   "execution_count": 7,
   "metadata": {},
   "outputs": [
    {
     "data": {
      "image/png": "[encoded data removed]",
      "text/plain": [
       "<Figure size 432x288 with 1 Axes>"
      ]
     },
     "metadata": {
      "needs_background": "light"
     },
     "output_type": "display_data"
    }
   ],
   "source": [
    "#%% hist\n",
    "y_pred = fit.extract()['ypred']\n",
    "plt.hist(y_pred, bins=20, ec='white')\n",
    "plt.show()"
   ]
  }
 ],
 "metadata": {
  "kernelspec": {
   "display_name": "Python 3",
   "language": "python",
   "name": "python3"
  },
  "language_info": {
   "codemirror_mode": {
    "name": "ipython",
    "version": 3
   },
   "file_extension": ".py",
   "mimetype": "text/x-python",
   "name": "python",
   "nbconvert_exporter": "python",
   "pygments_lexer": "ipython3",
   "version": "3.6.5"
  }
 },
 "nbformat": 4,
 "nbformat_minor": 2
}
